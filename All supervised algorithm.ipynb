{
 "cells": [
  {
   "cell_type": "markdown",
   "id": "c921a801",
   "metadata": {},
   "source": [
    "NAME:-SHRIDATTA SHEKHAR BHASME\n",
    "ROLL NO :- RBTL22CB072\n",
    "SUBJECT:- MACHINE LEARNING\n",
    "DATASET :- MONKEYPOX DATASET\n"
   ]
  },
  {
   "cell_type": "markdown",
   "id": "621df715",
   "metadata": {},
   "source": [
    "Aim:\n",
    "The aim of this study is to conduct a comprehensive comparative analysis of various supervised machine learning algorithms, namely Support Vector Machine (SVM), Naive Bayes, k-Nearest Neighbors (KNN), Decision Tree, and Artificial Neural Network (ANN) models. The goal is to provide insights into the strengths, weaknesses, and applicability of these algorithms across different types of datasets and problem domains."
   ]
  },
  {
   "cell_type": "markdown",
   "id": "0a9d5689",
   "metadata": {},
   "source": [
    "Objectives:\n",
    "Performance Evaluation:\n",
    "Evaluate and compare the predictive performance of SVM, Naive Bayes, KNN, Decision Tree, and ANN models on diverse datasets.\n",
    "Assess the algorithms in terms of accuracy, precision, recall, and F1 score to understand their classification capabilities.\n",
    "\n",
    "Robustness Analysis:\n",
    "Investigate the robustness of each algorithm by assessing their performance under varying conditions, including noisy data and imbalanced datasets.\n",
    "Analyze the sensitivity of the models to changes in input data and assess their ability to generalize to unseen samples.\n",
    "\n",
    "Computational Efficiency:\n",
    "Compare the computational efficiency of the algorithms by examining their training and prediction times.\n",
    "Evaluate the scalability of each algorithm concerning the size of the dataset."
   ]
  },
  {
   "cell_type": "markdown",
   "id": "c3f1ff38",
   "metadata": {},
   "source": [
    "Theory:\n",
    "\n",
    "Support Vector Machines (SVM):\n",
    "SVM is a supervised learning algorithm that can be used for classification or regression tasks.\n",
    "It works by finding the hyperplane that best separates different classes in feature space.\n",
    "SVM is effective in high-dimensional spaces and is particularly powerful in scenarios where the data is not linearly separable.\n",
    "\n",
    "Naive Bayes:\n",
    "Naive Bayes is a probabilistic algorithm based on Bayes' theorem.\n",
    "It assumes that features are independent given the class label, making it computationally efficient and easy to implement.\n",
    "Naive Bayes is often used for text classification and spam filtering.\n",
    "\n",
    "k-Nearest Neighbors (KNN):\n",
    "KNN is a non-parametric and lazy learning algorithm used for both classification and regression tasks.\n",
    "It makes predictions based on the majority class or average value of the k-nearest data points in feature space.\n",
    "KNN is simple to understand but may suffer from computational inefficiency, especially with large datasets.\n",
    "\n",
    "Decision Trees:\n",
    "Decision Trees are a popular algorithm for both classification and regression tasks.\n",
    "They recursively split the dataset based on features to create a tree-like structure.\n",
    "Decision Trees are easy to interpret but may be prone to overfitting.\n",
    "\n",
    "Artificial Neural Networks (ANN):\n",
    "ANN is a machine learning model inspired by the human brain's neural network structure.\n",
    "It consists of interconnected nodes organized in layers and is capable of learning complex patterns.\n",
    "ANN is highly flexible but may require more data and computational resources."
   ]
  },
  {
   "cell_type": "code",
   "execution_count": 13,
   "id": "e89b1180",
   "metadata": {},
   "outputs": [],
   "source": [
    "import numpy as np\n",
    "import pandas as pd\n",
    "import matplotlib.pyplot as plt\n",
    "import seaborn as sns\n",
    "from sklearn.model_selection import train_test_split\n",
    "from sklearn.naive_bayes import GaussianNB\n",
    "from sklearn import metrics\n",
    "from sklearn.tree import DecisionTreeClassifier\n",
    "from sklearn.metrics import classification_report, confusion_matrix, accuracy_score\n",
    "from sklearn.ensemble import RandomForestClassifier\n",
    "from sklearn.naive_bayes import BernoulliNB"
   ]
  },
  {
   "cell_type": "code",
   "execution_count": 3,
   "id": "cbbc8a45",
   "metadata": {},
   "outputs": [
    {
     "data": {
      "text/html": [
       "<div>\n",
       "<style scoped>\n",
       "    .dataframe tbody tr th:only-of-type {\n",
       "        vertical-align: middle;\n",
       "    }\n",
       "\n",
       "    .dataframe tbody tr th {\n",
       "        vertical-align: top;\n",
       "    }\n",
       "\n",
       "    .dataframe thead th {\n",
       "        text-align: right;\n",
       "    }\n",
       "</style>\n",
       "<table border=\"1\" class=\"dataframe\">\n",
       "  <thead>\n",
       "    <tr style=\"text-align: right;\">\n",
       "      <th></th>\n",
       "      <th>Country.Iso code</th>\n",
       "      <th>Country.Full</th>\n",
       "      <th>Date.Full</th>\n",
       "      <th>Date.Year</th>\n",
       "      <th>Date.Month</th>\n",
       "      <th>Date.Day</th>\n",
       "      <th>Data.Cases.New</th>\n",
       "      <th>Data.Cases.Total</th>\n",
       "      <th>Data.Cases.New per million</th>\n",
       "      <th>Data.Cases.Total per million</th>\n",
       "      <th>Data.Deaths.New</th>\n",
       "      <th>Data.Deaths.Total</th>\n",
       "      <th>Data.Deaths.New per million</th>\n",
       "      <th>Data.Deaths.Total per million</th>\n",
       "    </tr>\n",
       "  </thead>\n",
       "  <tbody>\n",
       "    <tr>\n",
       "      <th>0</th>\n",
       "      <td>AND</td>\n",
       "      <td>Andorra</td>\n",
       "      <td>2022-07-25</td>\n",
       "      <td>2022</td>\n",
       "      <td>7</td>\n",
       "      <td>25</td>\n",
       "      <td>1</td>\n",
       "      <td>1</td>\n",
       "      <td>12.653</td>\n",
       "      <td>12.653</td>\n",
       "      <td>0</td>\n",
       "      <td>0</td>\n",
       "      <td>0.0</td>\n",
       "      <td>0.0</td>\n",
       "    </tr>\n",
       "    <tr>\n",
       "      <th>1</th>\n",
       "      <td>AND</td>\n",
       "      <td>Andorra</td>\n",
       "      <td>2022-07-26</td>\n",
       "      <td>2022</td>\n",
       "      <td>7</td>\n",
       "      <td>26</td>\n",
       "      <td>2</td>\n",
       "      <td>3</td>\n",
       "      <td>25.306</td>\n",
       "      <td>37.958</td>\n",
       "      <td>0</td>\n",
       "      <td>0</td>\n",
       "      <td>0.0</td>\n",
       "      <td>0.0</td>\n",
       "    </tr>\n",
       "    <tr>\n",
       "      <th>2</th>\n",
       "      <td>AND</td>\n",
       "      <td>Andorra</td>\n",
       "      <td>2022-07-27</td>\n",
       "      <td>2022</td>\n",
       "      <td>7</td>\n",
       "      <td>27</td>\n",
       "      <td>0</td>\n",
       "      <td>3</td>\n",
       "      <td>0.000</td>\n",
       "      <td>37.958</td>\n",
       "      <td>0</td>\n",
       "      <td>0</td>\n",
       "      <td>0.0</td>\n",
       "      <td>0.0</td>\n",
       "    </tr>\n",
       "    <tr>\n",
       "      <th>3</th>\n",
       "      <td>AND</td>\n",
       "      <td>Andorra</td>\n",
       "      <td>2022-07-28</td>\n",
       "      <td>2022</td>\n",
       "      <td>7</td>\n",
       "      <td>28</td>\n",
       "      <td>0</td>\n",
       "      <td>3</td>\n",
       "      <td>0.000</td>\n",
       "      <td>37.958</td>\n",
       "      <td>0</td>\n",
       "      <td>0</td>\n",
       "      <td>0.0</td>\n",
       "      <td>0.0</td>\n",
       "    </tr>\n",
       "    <tr>\n",
       "      <th>4</th>\n",
       "      <td>AND</td>\n",
       "      <td>Andorra</td>\n",
       "      <td>2022-07-29</td>\n",
       "      <td>2022</td>\n",
       "      <td>7</td>\n",
       "      <td>29</td>\n",
       "      <td>0</td>\n",
       "      <td>3</td>\n",
       "      <td>0.000</td>\n",
       "      <td>37.958</td>\n",
       "      <td>0</td>\n",
       "      <td>0</td>\n",
       "      <td>0.0</td>\n",
       "      <td>0.0</td>\n",
       "    </tr>\n",
       "  </tbody>\n",
       "</table>\n",
       "</div>"
      ],
      "text/plain": [
       "  Country.Iso code Country.Full   Date.Full  Date.Year  Date.Month  Date.Day  \\\n",
       "0              AND      Andorra  2022-07-25       2022           7        25   \n",
       "1              AND      Andorra  2022-07-26       2022           7        26   \n",
       "2              AND      Andorra  2022-07-27       2022           7        27   \n",
       "3              AND      Andorra  2022-07-28       2022           7        28   \n",
       "4              AND      Andorra  2022-07-29       2022           7        29   \n",
       "\n",
       "   Data.Cases.New  Data.Cases.Total  Data.Cases.New per million  \\\n",
       "0               1                 1                      12.653   \n",
       "1               2                 3                      25.306   \n",
       "2               0                 3                       0.000   \n",
       "3               0                 3                       0.000   \n",
       "4               0                 3                       0.000   \n",
       "\n",
       "   Data.Cases.Total per million  Data.Deaths.New  Data.Deaths.Total  \\\n",
       "0                        12.653                0                  0   \n",
       "1                        37.958                0                  0   \n",
       "2                        37.958                0                  0   \n",
       "3                        37.958                0                  0   \n",
       "4                        37.958                0                  0   \n",
       "\n",
       "   Data.Deaths.New per million  Data.Deaths.Total per million  \n",
       "0                          0.0                            0.0  \n",
       "1                          0.0                            0.0  \n",
       "2                          0.0                            0.0  \n",
       "3                          0.0                            0.0  \n",
       "4                          0.0                            0.0  "
      ]
     },
     "execution_count": 3,
     "metadata": {},
     "output_type": "execute_result"
    }
   ],
   "source": [
    "data=pd.read_csv(r\"monkeypox.csv\")\n",
    "data.head(n=5)"
   ]
  },
  {
   "cell_type": "code",
   "execution_count": 4,
   "id": "aa0e2023",
   "metadata": {},
   "outputs": [],
   "source": [
    "from sklearn import preprocessing\n",
    "\n",
    "label_encoders = {}\n",
    "columns_to_encode = ['Country.Iso code', 'Country.Full', 'Date.Full', 'Date.Year', 'Date.Month', 'Date.Day', 'Data.Cases.New', 'Data.Cases.Total', 'Data.Cases.New per million', 'Data.Cases.Total per million', 'Data.Deaths.New', 'Data.Deaths.Total', 'Data.Deaths.New per million', 'Data.Deaths.Total per million']\n",
    "\n",
    "# Assuming 'data' is your COVID-19 dataset\n",
    "for col in columns_to_encode:\n",
    "    label_encoders[col] = preprocessing.LabelEncoder()\n",
    "    data[col] = label_encoders[col].fit_transform(data[col])\n"
   ]
  },
  {
   "cell_type": "code",
   "execution_count": 6,
   "id": "836c6df1",
   "metadata": {},
   "outputs": [],
   "source": [
    "train, test=train_test_split(data,random_state=42)\n",
    "x_train=train[train.columns[2:30]]\n",
    "y_train =train['Data.Cases.New']\n",
    "x_test=test[test.columns[2:30]]\n",
    "y_test =test['Data.Cases.New']"
   ]
  },
  {
   "cell_type": "code",
   "execution_count": 7,
   "id": "cbafeea4",
   "metadata": {},
   "outputs": [],
   "source": [
    "from sklearn.preprocessing import StandardScaler\n",
    "scaler = StandardScaler()\n",
    "scaler.fit(x_train)\n",
    "x_train=scaler.transform(x_train)\n",
    "x_test=scaler.transform(x_test)"
   ]
  },
  {
   "cell_type": "code",
   "execution_count": 8,
   "id": "4dd6547c",
   "metadata": {},
   "outputs": [
    {
     "name": "stdout",
     "output_type": "stream",
     "text": [
      "Accuracy: 0.9543907420013614\n"
     ]
    }
   ],
   "source": [
    "clf = DecisionTreeClassifier()\n",
    "clf.fit(x_train, y_train)\n",
    "y_pred = clf.predict(x_test)\n",
    "accuracy = accuracy_score(y_test, y_pred)\n",
    "print(f\"Accuracy: {accuracy}\")"
   ]
  },
  {
   "cell_type": "code",
   "execution_count": 9,
   "id": "8d97ee29",
   "metadata": {},
   "outputs": [
    {
     "name": "stdout",
     "output_type": "stream",
     "text": [
      "Accuracy: 0.7610619469026548\n"
     ]
    }
   ],
   "source": [
    "from sklearn.neighbors import KNeighborsClassifier\n",
    "knn = KNeighborsClassifier(n_neighbors=3)\n",
    "knn.fit(x_train, y_train)\n",
    "y_pred = knn.predict(x_test)\n",
    "\n",
    "# Calculate accuracy\n",
    "accuracy = accuracy_score(y_test, y_pred)\n",
    "print(f\"Accuracy: {accuracy}\")"
   ]
  },
  {
   "cell_type": "code",
   "execution_count": 10,
   "id": "cc4d0998",
   "metadata": {},
   "outputs": [
    {
     "name": "stdout",
     "output_type": "stream",
     "text": [
      "Accuracy:  0.8509189925119128\n"
     ]
    }
   ],
   "source": [
    "from sklearn.neural_network import MLPClassifier\n",
    "MLP =MLPClassifier(hidden_layer_sizes=(10,10,10), max_iter=1000)\n",
    "MLP.fit(x_train, y_train.values.ravel())\n",
    "predictions=MLP.predict(x_test)\n",
    "print(\"Accuracy: \",accuracy_score(y_test,predictions))"
   ]
  },
  {
   "cell_type": "code",
   "execution_count": 11,
   "id": "b12ab33a",
   "metadata": {},
   "outputs": [
    {
     "name": "stdout",
     "output_type": "stream",
     "text": [
      "Accuracy:  0.9482641252552757\n"
     ]
    }
   ],
   "source": [
    "model=GaussianNB()\n",
    "model.fit(x_train,y_train)\n",
    "y_pred=model.predict(x_test)\n",
    "print(\"Accuracy: \",metrics.accuracy_score(y_test,y_pred))"
   ]
  },
  {
   "cell_type": "code",
   "execution_count": 12,
   "id": "c02298f3",
   "metadata": {},
   "outputs": [
    {
     "name": "stdout",
     "output_type": "stream",
     "text": [
      "Accuracy:  0.7773995915588836\n",
      "\n",
      " Confusuion matrix :\n",
      "  [[1059    0    0 ...    0    0    0]\n",
      " [  14   81    0 ...    0    0    0]\n",
      " [   3   44    0 ...    0    0    0]\n",
      " ...\n",
      " [   0    0    0 ...    0    0    0]\n",
      " [   0    0    0 ...    0    0    0]\n",
      " [   0    0    0 ...    0    0    0]]\n"
     ]
    }
   ],
   "source": [
    "from sklearn.svm import SVC\n",
    "from sklearn.metrics import accuracy_score, classification_report, confusion_matrix\n",
    "svm_model=SVC(kernel=\"linear\")\n",
    "svm_model.fit(x_train,y_train)\n",
    "y_pred=svm_model.predict(x_test)\n",
    "print(\"Accuracy: \",accuracy_score(y_test,y_pred))\n",
    "print(\"\\n Confusuion matrix :\\n \",confusion_matrix(y_test,y_pred))\n"
   ]
  },
  {
   "cell_type": "markdown",
   "id": "a53b7071",
   "metadata": {},
   "source": [
    "Conclusion:\n",
    "\n",
    "In conclusion, this comparative analysis provides valuable insights into the performance, robustness, computational efficiency, interpretability, and hyperparameter sensitivity of SVM, Naive Bayes, KNN, Decision Tree, and ANN models. The findings will guide practitioners in selecting the most appropriate algorithm based on the characteristics of their datasets and the specific requirements of their applications. Understanding the trade-offs and strengths of each algorithm is crucial for making informed decisions in the field of supervised machine learning."
   ]
  }
 ],
 "metadata": {
  "kernelspec": {
   "display_name": "Python 3 (ipykernel)",
   "language": "python",
   "name": "python3"
  },
  "language_info": {
   "codemirror_mode": {
    "name": "ipython",
    "version": 3
   },
   "file_extension": ".py",
   "mimetype": "text/x-python",
   "name": "python",
   "nbconvert_exporter": "python",
   "pygments_lexer": "ipython3",
   "version": "3.9.7"
  }
 },
 "nbformat": 4,
 "nbformat_minor": 5
}
