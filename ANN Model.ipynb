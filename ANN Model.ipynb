{
 "cells": [
  {
   "cell_type": "markdown",
   "id": "c2885a61",
   "metadata": {},
   "source": [
    "NAME:-SHRIDATTA SHEKHAR BHASME\n",
    "ROLL NO :- RBTL22CB072\n",
    "SUBJECT:- MACHINE LEARNING\n",
    "DATASET :- IRIS_DATASET"
   ]
  },
  {
   "cell_type": "code",
   "execution_count": 13,
   "id": "3882720e",
   "metadata": {},
   "outputs": [],
   "source": [
    "import numpy as np\n",
    "import pandas as pd\n",
    "from sklearn.model_selection import train_test_split\n",
    "from sklearn.preprocessing import StandardScaler\n",
    "from sklearn.metrics import classification_report, confusion_matrix, accuracy_score\n"
   ]
  },
  {
   "cell_type": "code",
   "execution_count": null,
   "id": "dc4b89cb",
   "metadata": {},
   "outputs": [],
   "source": [
    "- `numpy` (np): Numerical Python - Library for numerical and matrix operations in Python.\n",
    "- `pandas` (pd): Python Data Analysis Library - Library for data manipulation and analysis.\n",
    "- `sklearn.model_selection` : Scikit-learn Model Selection - Library for model selection and evaluation.\n",
    "- `sklearn.preprocessing` : Scikit-learn Preprocessing - Library for data preprocessing and feature scaling.\n",
    "- `sklearn.metrics` : Scikit-learn Metrics - Library for evaluating the performance of machine learning models."
   ]
  },
  {
   "cell_type": "code",
   "execution_count": 14,
   "id": "0bd1dbeb",
   "metadata": {},
   "outputs": [
    {
     "data": {
      "text/html": [
       "<div>\n",
       "<style scoped>\n",
       "    .dataframe tbody tr th:only-of-type {\n",
       "        vertical-align: middle;\n",
       "    }\n",
       "\n",
       "    .dataframe tbody tr th {\n",
       "        vertical-align: top;\n",
       "    }\n",
       "\n",
       "    .dataframe thead th {\n",
       "        text-align: right;\n",
       "    }\n",
       "</style>\n",
       "<table border=\"1\" class=\"dataframe\">\n",
       "  <thead>\n",
       "    <tr style=\"text-align: right;\">\n",
       "      <th></th>\n",
       "      <th>sepal.length</th>\n",
       "      <th>sepal.width</th>\n",
       "      <th>petal.length</th>\n",
       "      <th>petal.width</th>\n",
       "      <th>variety</th>\n",
       "    </tr>\n",
       "  </thead>\n",
       "  <tbody>\n",
       "    <tr>\n",
       "      <th>0</th>\n",
       "      <td>5.1</td>\n",
       "      <td>3.5</td>\n",
       "      <td>1.4</td>\n",
       "      <td>0.2</td>\n",
       "      <td>Setosa</td>\n",
       "    </tr>\n",
       "    <tr>\n",
       "      <th>1</th>\n",
       "      <td>4.9</td>\n",
       "      <td>3.0</td>\n",
       "      <td>1.4</td>\n",
       "      <td>0.2</td>\n",
       "      <td>Setosa</td>\n",
       "    </tr>\n",
       "    <tr>\n",
       "      <th>2</th>\n",
       "      <td>4.7</td>\n",
       "      <td>3.2</td>\n",
       "      <td>1.3</td>\n",
       "      <td>0.2</td>\n",
       "      <td>Setosa</td>\n",
       "    </tr>\n",
       "    <tr>\n",
       "      <th>3</th>\n",
       "      <td>4.6</td>\n",
       "      <td>3.1</td>\n",
       "      <td>1.5</td>\n",
       "      <td>0.2</td>\n",
       "      <td>Setosa</td>\n",
       "    </tr>\n",
       "    <tr>\n",
       "      <th>4</th>\n",
       "      <td>5.0</td>\n",
       "      <td>3.6</td>\n",
       "      <td>1.4</td>\n",
       "      <td>0.2</td>\n",
       "      <td>Setosa</td>\n",
       "    </tr>\n",
       "  </tbody>\n",
       "</table>\n",
       "</div>"
      ],
      "text/plain": [
       "   sepal.length  sepal.width  petal.length  petal.width variety\n",
       "0           5.1          3.5           1.4          0.2  Setosa\n",
       "1           4.9          3.0           1.4          0.2  Setosa\n",
       "2           4.7          3.2           1.3          0.2  Setosa\n",
       "3           4.6          3.1           1.5          0.2  Setosa\n",
       "4           5.0          3.6           1.4          0.2  Setosa"
      ]
     },
     "execution_count": 14,
     "metadata": {},
     "output_type": "execute_result"
    }
   ],
   "source": [
    "data=pd.read_csv(r\"iris.csv\")\n",
    "data.head(n=5)"
   ]
  },
  {
   "cell_type": "code",
   "execution_count": 16,
   "id": "889ca5a0",
   "metadata": {},
   "outputs": [],
   "source": [
    "from sklearn import preprocessing\n",
    "label_encoder = preprocessing.LabelEncoder()\n",
    "data['variety'] = label_encoder.fit_transform(data['variety'])"
   ]
  },
  {
   "cell_type": "code",
   "execution_count": 17,
   "id": "5e3e57f5",
   "metadata": {},
   "outputs": [],
   "source": [
    "train, test=train_test_split(data,random_state=42)\n",
    "x_train=train[train.columns[2:30]]\n",
    "y_train =train['variety']\n",
    "x_test=test[test.columns[2:30]]\n",
    "y_test =test['variety']"
   ]
  },
  {
   "cell_type": "markdown",
   "id": "8e15a184",
   "metadata": {},
   "source": [
    "- `train, test=train_test_split(data,random_state=42)`:Splits the data into training and testing sets with\n",
    "    a random state of 42 for reproducibility.\n",
    "- `x_train=train[train.columns[2:30]]`: Extracts the features for the training set from columns 2 to 29.\n",
    "- `y_train =train['variety']`: Extracts the target variable for the training set.\n",
    "- `x_test=test[test.columns[2:30]]`: Extracts the features for the testing set from columns 2 to 29.\n",
    "- `y_test =test['variety']`: Extracts the target variable for the testing set."
   ]
  },
  {
   "cell_type": "code",
   "execution_count": 18,
   "id": "012d7405",
   "metadata": {},
   "outputs": [],
   "source": [
    "from sklearn.preprocessing import StandardScaler\n",
    "scaler = StandardScaler()\n",
    "scaler.fit(x_train)\n",
    "x_train=scaler.transform(x_train)\n",
    "x_test=scaler.transform(x_test)"
   ]
  },
  {
   "cell_type": "code",
   "execution_count": null,
   "id": "d092443a",
   "metadata": {},
   "outputs": [],
   "source": []
  },
  {
   "cell_type": "code",
   "execution_count": 19,
   "id": "dfd9c667",
   "metadata": {},
   "outputs": [
    {
     "data": {
      "text/plain": [
       "MLPClassifier(hidden_layer_sizes=(10, 10, 10), max_iter=1000)"
      ]
     },
     "execution_count": 19,
     "metadata": {},
     "output_type": "execute_result"
    }
   ],
   "source": [
    "from sklearn.neural_network import MLPClassifier\n",
    "MLP =MLPClassifier(hidden_layer_sizes=(10,10,10), max_iter=1000)\n",
    "MLP.fit(x_train, y_train.values.ravel())"
   ]
  },
  {
   "cell_type": "markdown",
   "id": "73da8ab2",
   "metadata": {},
   "source": [
    "Artificial neural networks (ANNs) are biologically inspired computer programs designed to simulate the way in which the human brain processes information. ANNs gather their knowledge by detecting the patterns and relationships in data and learn (or are trained) through experience, not from programming."
   ]
  },
  {
   "cell_type": "code",
   "execution_count": 20,
   "id": "a562cc1e",
   "metadata": {},
   "outputs": [],
   "source": [
    "predictions=MLP.predict(x_test)"
   ]
  },
  {
   "cell_type": "code",
   "execution_count": 21,
   "id": "d6763c4e",
   "metadata": {},
   "outputs": [
    {
     "name": "stdout",
     "output_type": "stream",
     "text": [
      "[[15  0  0]\n",
      " [ 0 11  0]\n",
      " [ 0  0 12]]\n",
      "              precision    recall  f1-score   support\n",
      "\n",
      "           0       1.00      1.00      1.00        15\n",
      "           1       1.00      1.00      1.00        11\n",
      "           2       1.00      1.00      1.00        12\n",
      "\n",
      "    accuracy                           1.00        38\n",
      "   macro avg       1.00      1.00      1.00        38\n",
      "weighted avg       1.00      1.00      1.00        38\n",
      "\n"
     ]
    }
   ],
   "source": [
    "from sklearn.metrics import classification_report, confusion_matrix\n",
    "print(confusion_matrix(y_test,predictions))\n",
    "print(classification_report(y_test,predictions))\n"
   ]
  },
  {
   "cell_type": "markdown",
   "id": "c7cf4872",
   "metadata": {},
   "source": [
    "A confusion matrix is a table used in machine learning and statistics to assess the performance of a classification model. It summarizes the results of classification by showing the counts of true positive, true negative, false positive, and false negative predictions."
   ]
  },
  {
   "cell_type": "code",
   "execution_count": 22,
   "id": "a3e6774e",
   "metadata": {},
   "outputs": [
    {
     "name": "stdout",
     "output_type": "stream",
     "text": [
      "Accuracy:  1.0\n"
     ]
    }
   ],
   "source": [
    "print(\"Accuracy: \",accuracy_score(y_test,predictions))"
   ]
  },
  {
   "cell_type": "markdown",
   "id": "3762475c",
   "metadata": {},
   "source": [
    "Conclusion:\n",
    "The practical analysis of the Iris dataset using an Artificial Neural Network (ANN) model has yielded compelling results. With an achieved accuracy of 100%, the model has effectively learned and classified the different species of iris flowers, showcasing its ability to comprehend the intricate patterns within the dataset"
   ]
  }
 ],
 "metadata": {
  "kernelspec": {
   "display_name": "Python 3 (ipykernel)",
   "language": "python",
   "name": "python3"
  },
  "language_info": {
   "codemirror_mode": {
    "name": "ipython",
    "version": 3
   },
   "file_extension": ".py",
   "mimetype": "text/x-python",
   "name": "python",
   "nbconvert_exporter": "python",
   "pygments_lexer": "ipython3",
   "version": "3.9.7"
  }
 },
 "nbformat": 4,
 "nbformat_minor": 5
}
