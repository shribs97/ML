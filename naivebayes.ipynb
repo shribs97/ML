{
 "cells": [
  {
   "cell_type": "code",
   "execution_count": 1,
   "id": "199bf607fcae8c6e",
   "metadata": {
    "ExecuteTime": {
     "end_time": "2023-11-29T13:45:30.737062300Z",
     "start_time": "2023-11-29T13:45:30.720059900Z"
    },
    "id": "199bf607fcae8c6e"
   },
   "outputs": [],
   "source": [
    "import pandas as pd\n",
    "from sklearn.model_selection import train_test_split\n",
    "from sklearn.naive_bayes import GaussianNB\n",
    "from sklearn.metrics import accuracy_score, confusion_matrix, classification_report"
   ]
  },
  {
   "cell_type": "code",
   "execution_count": 2,
   "id": "49e0c9d6ea281eeb",
   "metadata": {
    "ExecuteTime": {
     "end_time": "2023-11-29T13:45:32.081992400Z",
     "start_time": "2023-11-29T13:45:30.726062400Z"
    },
    "id": "49e0c9d6ea281eeb"
   },
   "outputs": [],
   "source": [
    "credit_card_data = pd.read_csv(\"creditcard.csv\")"
   ]
  },
  {
   "cell_type": "code",
   "execution_count": 3,
   "id": "c006c15b5aaa0d35",
   "metadata": {
    "ExecuteTime": {
     "end_time": "2023-11-29T13:45:32.128109200Z",
     "start_time": "2023-11-29T13:45:32.082992500Z"
    },
    "id": "c006c15b5aaa0d35"
   },
   "outputs": [],
   "source": [
    "X = credit_card_data.drop(['Class'], axis=1)\n",
    "y = credit_card_data['Class']\n"
   ]
  },
  {
   "cell_type": "code",
   "execution_count": 4,
   "id": "a9777176eece4162",
   "metadata": {
    "ExecuteTime": {
     "end_time": "2023-11-29T13:45:32.244543400Z",
     "start_time": "2023-11-29T13:45:32.120600100Z"
    },
    "id": "a9777176eece4162"
   },
   "outputs": [],
   "source": [
    "X_train, X_test, y_train, y_test = train_test_split(X, y, test_size=0.2, random_state=42)"
   ]
  },
  {
   "cell_type": "code",
   "execution_count": 5,
   "id": "bfb5ad6a7ac1d9eb",
   "metadata": {
    "ExecuteTime": {
     "end_time": "2023-11-29T13:45:32.252466400Z",
     "start_time": "2023-11-29T13:45:32.246463900Z"
    },
    "id": "bfb5ad6a7ac1d9eb"
   },
   "outputs": [],
   "source": [
    "naive_bayes_model = GaussianNB()"
   ]
  },
  {
   "cell_type": "code",
   "execution_count": 8,
   "id": "2573de1e",
   "metadata": {},
   "outputs": [],
   "source": [
    " credit_card_data = credit_card_data .dropna(subset=['Class'])"
   ]
  },
  {
   "cell_type": "code",
   "execution_count": 9,
   "id": "b0330cb9286a8a6",
   "metadata": {
    "ExecuteTime": {
     "end_time": "2023-11-29T13:45:32.359172900Z",
     "start_time": "2023-11-29T13:45:32.249466100Z"
    },
    "colab": {
     "base_uri": "https://localhost:8080/",
     "height": 338
    },
    "id": "b0330cb9286a8a6",
    "outputId": "d3172117-bd6a-4f38-c6d2-81e4d94dc564"
   },
   "outputs": [
    {
     "data": {
      "text/html": [
       "<style>#sk-container-id-1 {color: black;}#sk-container-id-1 pre{padding: 0;}#sk-container-id-1 div.sk-toggleable {background-color: white;}#sk-container-id-1 label.sk-toggleable__label {cursor: pointer;display: block;width: 100%;margin-bottom: 0;padding: 0.3em;box-sizing: border-box;text-align: center;}#sk-container-id-1 label.sk-toggleable__label-arrow:before {content: \"▸\";float: left;margin-right: 0.25em;color: #696969;}#sk-container-id-1 label.sk-toggleable__label-arrow:hover:before {color: black;}#sk-container-id-1 div.sk-estimator:hover label.sk-toggleable__label-arrow:before {color: black;}#sk-container-id-1 div.sk-toggleable__content {max-height: 0;max-width: 0;overflow: hidden;text-align: left;background-color: #f0f8ff;}#sk-container-id-1 div.sk-toggleable__content pre {margin: 0.2em;color: black;border-radius: 0.25em;background-color: #f0f8ff;}#sk-container-id-1 input.sk-toggleable__control:checked~div.sk-toggleable__content {max-height: 200px;max-width: 100%;overflow: auto;}#sk-container-id-1 input.sk-toggleable__control:checked~label.sk-toggleable__label-arrow:before {content: \"▾\";}#sk-container-id-1 div.sk-estimator input.sk-toggleable__control:checked~label.sk-toggleable__label {background-color: #d4ebff;}#sk-container-id-1 div.sk-label input.sk-toggleable__control:checked~label.sk-toggleable__label {background-color: #d4ebff;}#sk-container-id-1 input.sk-hidden--visually {border: 0;clip: rect(1px 1px 1px 1px);clip: rect(1px, 1px, 1px, 1px);height: 1px;margin: -1px;overflow: hidden;padding: 0;position: absolute;width: 1px;}#sk-container-id-1 div.sk-estimator {font-family: monospace;background-color: #f0f8ff;border: 1px dotted black;border-radius: 0.25em;box-sizing: border-box;margin-bottom: 0.5em;}#sk-container-id-1 div.sk-estimator:hover {background-color: #d4ebff;}#sk-container-id-1 div.sk-parallel-item::after {content: \"\";width: 100%;border-bottom: 1px solid gray;flex-grow: 1;}#sk-container-id-1 div.sk-label:hover label.sk-toggleable__label {background-color: #d4ebff;}#sk-container-id-1 div.sk-serial::before {content: \"\";position: absolute;border-left: 1px solid gray;box-sizing: border-box;top: 0;bottom: 0;left: 50%;z-index: 0;}#sk-container-id-1 div.sk-serial {display: flex;flex-direction: column;align-items: center;background-color: white;padding-right: 0.2em;padding-left: 0.2em;position: relative;}#sk-container-id-1 div.sk-item {position: relative;z-index: 1;}#sk-container-id-1 div.sk-parallel {display: flex;align-items: stretch;justify-content: center;background-color: white;position: relative;}#sk-container-id-1 div.sk-item::before, #sk-container-id-1 div.sk-parallel-item::before {content: \"\";position: absolute;border-left: 1px solid gray;box-sizing: border-box;top: 0;bottom: 0;left: 50%;z-index: -1;}#sk-container-id-1 div.sk-parallel-item {display: flex;flex-direction: column;z-index: 1;position: relative;background-color: white;}#sk-container-id-1 div.sk-parallel-item:first-child::after {align-self: flex-end;width: 50%;}#sk-container-id-1 div.sk-parallel-item:last-child::after {align-self: flex-start;width: 50%;}#sk-container-id-1 div.sk-parallel-item:only-child::after {width: 0;}#sk-container-id-1 div.sk-dashed-wrapped {border: 1px dashed gray;margin: 0 0.4em 0.5em 0.4em;box-sizing: border-box;padding-bottom: 0.4em;background-color: white;}#sk-container-id-1 div.sk-label label {font-family: monospace;font-weight: bold;display: inline-block;line-height: 1.2em;}#sk-container-id-1 div.sk-label-container {text-align: center;}#sk-container-id-1 div.sk-container {/* jupyter's `normalize.less` sets `[hidden] { display: none; }` but bootstrap.min.css set `[hidden] { display: none !important; }` so we also need the `!important` here to be able to override the default hidden behavior on the sphinx rendered scikit-learn.org. See: https://github.com/scikit-learn/scikit-learn/issues/21755 */display: inline-block !important;position: relative;}#sk-container-id-1 div.sk-text-repr-fallback {display: none;}</style><div id=\"sk-container-id-1\" class=\"sk-top-container\"><div class=\"sk-text-repr-fallback\"><pre>GaussianNB()</pre><b>In a Jupyter environment, please rerun this cell to show the HTML representation or trust the notebook. <br />On GitHub, the HTML representation is unable to render, please try loading this page with nbviewer.org.</b></div><div class=\"sk-container\" hidden><div class=\"sk-item\"><div class=\"sk-estimator sk-toggleable\"><input class=\"sk-toggleable__control sk-hidden--visually\" id=\"sk-estimator-id-1\" type=\"checkbox\" checked><label for=\"sk-estimator-id-1\" class=\"sk-toggleable__label sk-toggleable__label-arrow\">GaussianNB</label><div class=\"sk-toggleable__content\"><pre>GaussianNB()</pre></div></div></div></div></div>"
      ],
      "text/plain": [
       "GaussianNB()"
      ]
     },
     "execution_count": 9,
     "metadata": {},
     "output_type": "execute_result"
    }
   ],
   "source": [
    "naive_bayes_model.fit(X_train, y_train)"
   ]
  },
  {
   "cell_type": "code",
   "execution_count": 10,
   "id": "b89cbb330690e67",
   "metadata": {
    "ExecuteTime": {
     "end_time": "2023-11-29T13:45:32.395476Z",
     "start_time": "2023-11-29T13:45:32.360172700Z"
    },
    "id": "b89cbb330690e67"
   },
   "outputs": [],
   "source": [
    "y_pred = naive_bayes_model.predict(X_test)"
   ]
  },
  {
   "cell_type": "code",
   "execution_count": 11,
   "id": "93b24a43136f72c0",
   "metadata": {
    "ExecuteTime": {
     "end_time": "2023-11-29T13:45:32.407448700Z",
     "start_time": "2023-11-29T13:45:32.394474400Z"
    },
    "id": "93b24a43136f72c0",
    "outputId": "309d8975-97e6-40f1-edce-5bb4c8b00092"
   },
   "outputs": [
    {
     "name": "stdout",
     "output_type": "stream",
     "text": [
      "Accuracy: 99.30%\n"
     ]
    }
   ],
   "source": [
    "accuracy = accuracy_score(y_test, y_pred)\n",
    "print(f'Accuracy: {accuracy * 100:.2f}%')"
   ]
  },
  {
   "cell_type": "code",
   "execution_count": null,
   "id": "606d527d0aa7dd54",
   "metadata": {
    "ExecuteTime": {
     "end_time": "2023-11-29T13:45:32.459561700Z",
     "start_time": "2023-11-29T13:45:32.407448700Z"
    },
    "id": "606d527d0aa7dd54",
    "outputId": "975ae68b-59eb-4597-9375-e7d2f50e58e1"
   },
   "outputs": [
    {
     "name": "stdout",
     "output_type": "stream",
     "text": [
      "\n",
      "Confusion Matrix:\n",
      "[[56502   362]\n",
      " [   36    62]]\n",
      "\n",
      "Classification Report:\n",
      "              precision    recall  f1-score   support\n",
      "\n",
      "           0       1.00      0.99      1.00     56864\n",
      "           1       0.15      0.63      0.24        98\n",
      "\n",
      "    accuracy                           0.99     56962\n",
      "   macro avg       0.57      0.81      0.62     56962\n",
      "weighted avg       1.00      0.99      1.00     56962\n"
     ]
    }
   ],
   "source": [
    "# Display confusion matrix and classification report\n",
    "conf_matrix = confusion_matrix(y_test, y_pred)\n",
    "classification_rep = classification_report(y_test, y_pred)\n",
    "\n",
    "print('\\nConfusion Matrix:')\n",
    "print(conf_matrix)\n",
    "\n",
    "print('\\nClassification Report:')\n",
    "print(classification_rep)"
   ]
  }
 ],
 "metadata": {
  "colab": {
   "provenance": []
  },
  "kernelspec": {
   "display_name": "Python 3 (ipykernel)",
   "language": "python",
   "name": "python3"
  },
  "language_info": {
   "codemirror_mode": {
    "name": "ipython",
    "version": 3
   },
   "file_extension": ".py",
   "mimetype": "text/x-python",
   "name": "python",
   "nbconvert_exporter": "python",
   "pygments_lexer": "ipython3",
   "version": "3.9.7"
  }
 },
 "nbformat": 4,
 "nbformat_minor": 5
}
