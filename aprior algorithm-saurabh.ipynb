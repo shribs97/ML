{
 "cells": [
  {
   "cell_type": "markdown",
   "id": "000590e7",
   "metadata": {},
   "source": [
    "NAME:-SAURABH RAJENDRA SABLE\n",
    "ROLL NO :- RBTL22CB076\n",
    "SUBJECT:- MACHINE LEARNING\n",
    "DATASET :- MONKEYPOX DATASET"
   ]
  },
  {
   "cell_type": "markdown",
   "id": "7425d563",
   "metadata": {},
   "source": [
    "Aim :\n",
    "The aim of the Market Basket Analysis project is to employ the Apriori algorithm to discover interesting associations and \n",
    "patterns within a retail dataset. The project focuses on understanding the relationships between products frequently purchased \n",
    "together by customers. By analyzing these associations, the goal is to provide valuable insights that can be used to enhance \n",
    "marketing strategies, optimize product placements, and improve overall customer experience."
   ]
  },
  {
   "cell_type": "markdown",
   "id": "84f7b46c",
   "metadata": {},
   "source": [
    "Objectives:\n",
    "\n",
    "Implement the Apriori algorithm to identify frequent itemsets.\n",
    "Extract meaningful association rules based on the identified itemsets.\n",
    "Evaluate and interpret the discovered patterns to gain actionable insights.\n",
    "Apply the insights to enhance business strategies, such as product bundling, cross-selling, and targeted marketing."
   ]
  },
  {
   "cell_type": "markdown",
   "id": "487268c8",
   "metadata": {},
   "source": [
    "Problem Statement:\n",
    "In the context of retail and e-commerce, understanding customer purchasing behavior is crucial for optimizing business strategies. One effective approach is Market Basket Analysis, which aims to uncover associations and patterns among products frequently purchased together. The Apriori algorithm is a widely used method for this analysis due to its ability to efficiently identify frequent itemsets and extract meaningful association rules"
   ]
  },
  {
   "cell_type": "markdown",
   "id": "301b4e64",
   "metadata": {},
   "source": [
    "Theory:\n",
    "\n",
    "The Apriori algorithm, proposed by Agrawal and Srikant in 1994, is a fundamental algorithm for association rule mining. The theory behind Apriori is based on the Apriori property, which states that if an itemset is frequent, then all of its subsets must also be frequent. The algorithm uses a breadth-first search strategy to discover frequent itemsets and generate association rules.\n",
    "\n",
    "Support and Confidence: Central to the Apriori algorithm are two key metrics—support and confidence. Support measures the frequency of occurrence of an itemset, while confidence measures the likelihood that an association rule holds true.\n",
    "\n",
    "Pruning: To optimize the mining process, the Apriori algorithm uses a pruning technique. Infrequent itemsets are eliminated, reducing the search space and improving computational efficiency.\n",
    "\n",
    "Association Rules: Once frequent itemsets are identified, association rules are generated. These rules express relationships between items, providing insights into customer behaviors and preferences.\n",
    "\n",
    "Parameter Tuning: The performance of the Apriori algorithm is influenced by user-defined parameters, such as the minimum support threshold. Theoretical considerations guide the selection of these parameters to balance the trade-off between discovering meaningful patterns and avoiding spurious associations."
   ]
  },
  {
   "cell_type": "code",
   "execution_count": 2,
   "id": "fb1180ea",
   "metadata": {},
   "outputs": [],
   "source": [
    "from mlxtend.preprocessing import TransactionEncoder\n",
    "from mlxtend.frequent_patterns import apriori, association_rules\n",
    "import pandas as pd"
   ]
  },
  {
   "cell_type": "code",
   "execution_count": 10,
   "id": "ad835215",
   "metadata": {},
   "outputs": [],
   "source": [
    "transactions = [\n",
    "    ['bread', 'milk', 'eggs'],\n",
    "    ['bread', 'butter'],\n",
    "    ['milk', 'butter'],\n",
    "    ['bread', 'milk', 'butter'],\n",
    "    ['bread', 'milk'],\n",
    "]"
   ]
  },
  {
   "cell_type": "code",
   "execution_count": 11,
   "id": "bf6a6d5c",
   "metadata": {},
   "outputs": [],
   "source": [
    "te = TransactionEncoder()\n",
    "te_ary = te.fit(transactions).transform(transactions)\n",
    "df = pd.DataFrame(te_ary, columns=te.columns_)\n"
   ]
  },
  {
   "cell_type": "code",
   "execution_count": 12,
   "id": "d7678731",
   "metadata": {},
   "outputs": [],
   "source": [
    "frequent_itemsets = apriori(df, min_support=0.3, use_colnames=True)"
   ]
  },
  {
   "cell_type": "code",
   "execution_count": 13,
   "id": "3a997089",
   "metadata": {},
   "outputs": [],
   "source": [
    "rules = association_rules(frequent_itemsets, metric=\"confidence\", min_threshold=0.7)"
   ]
  },
  {
   "cell_type": "code",
   "execution_count": 14,
   "id": "13abd6d5",
   "metadata": {},
   "outputs": [
    {
     "name": "stdout",
     "output_type": "stream",
     "text": [
      "Frequent Itemsets:\n",
      "   support         itemsets\n",
      "0      0.8          (bread)\n",
      "1      0.6         (butter)\n",
      "2      0.8           (milk)\n",
      "3      0.4  (butter, bread)\n",
      "4      0.6    (milk, bread)\n",
      "5      0.4   (butter, milk)\n",
      "\n",
      "Association Rules:\n",
      "  antecedents consequents  antecedent support  consequent support  support  \\\n",
      "0      (milk)     (bread)                 0.8                 0.8      0.6   \n",
      "1     (bread)      (milk)                 0.8                 0.8      0.6   \n",
      "\n",
      "   confidence    lift  leverage  conviction  zhangs_metric  \n",
      "0        0.75  0.9375     -0.04         0.8          -0.25  \n",
      "1        0.75  0.9375     -0.04         0.8          -0.25  \n"
     ]
    }
   ],
   "source": [
    "print(\"Frequent Itemsets:\")\n",
    "print(frequent_itemsets)\n",
    "\n",
    "print(\"\\nAssociation Rules:\")\n",
    "print(rules)"
   ]
  },
  {
   "cell_type": "markdown",
   "id": "04192b6d",
   "metadata": {},
   "source": [
    "Conclusion :\n",
    "In conclusion, the Market Basket Analysis project successfully utilized the Apriori algorithm to uncover meaningful associations\n",
    "and patterns in the retail dataset. The identified frequent itemsets and association rules provide valuable information about \n",
    "customer purchasing behaviors."
   ]
  },
  {
   "cell_type": "code",
   "execution_count": null,
   "id": "1fc47069",
   "metadata": {},
   "outputs": [],
   "source": []
  }
 ],
 "metadata": {
  "kernelspec": {
   "display_name": "Python 3 (ipykernel)",
   "language": "python",
   "name": "python3"
  },
  "language_info": {
   "codemirror_mode": {
    "name": "ipython",
    "version": 3
   },
   "file_extension": ".py",
   "mimetype": "text/x-python",
   "name": "python",
   "nbconvert_exporter": "python",
   "pygments_lexer": "ipython3",
   "version": "3.9.7"
  }
 },
 "nbformat": 4,
 "nbformat_minor": 5
}
